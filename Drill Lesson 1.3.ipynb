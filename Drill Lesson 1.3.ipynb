{
 "cells": [
  {
   "cell_type": "markdown",
   "metadata": {},
   "source": [
    "# 1. What is the 1994 rate of juvenile delinquency in the U.S.?\n",
    "    Good"
   ]
  },
  {
   "cell_type": "markdown",
   "metadata": {},
   "source": [
    "# 2. What can we do to reduce juvenile delinquency in the U.S.?\n",
    "    Bad\n",
    "        * Because this question is too broad, we need to narrow down the question and provide a X method.\n",
    "        * What can X do to reduce juvenile delinquency in the U.S.?"
   ]
  },
  {
   "cell_type": "markdown",
   "metadata": {},
   "source": [
    "# 3. Does education play a role in reducing juvenile delinquents' return to crime?\n",
    "    Good"
   ]
  },
  {
   "cell_type": "markdown",
   "metadata": {},
   "source": [
    "# 4. How many customers does AT&T currently serve in Washington, DC?\n",
    "    Good"
   ]
  },
  {
   "cell_type": "markdown",
   "metadata": {},
   "source": [
    "# 5. What factors lead consumers to choose AT&T over other service providers?\n",
    "    Bad\n",
    "        * This question does not have a clear goal, we do not what kind of factors to analyze hence do not know the type of answers we need"
   ]
  },
  {
   "cell_type": "markdown",
   "metadata": {},
   "source": [
    "# 6. How can AT&T attract more customers?\n",
    "    Bad\n",
    "        * Same reasoning as question 2. The question is too broad, we need to narrow down the question by providing a possible factor to analyze."
   ]
  },
  {
   "cell_type": "markdown",
   "metadata": {},
   "source": [
    "# 7. Why did the Challenger Shuttle explode?\n",
    "    Bad\n",
    "        * Has a clear goal but does not have a proper starting point. We do not know what kind of factors to analyze."
   ]
  },
  {
   "cell_type": "markdown",
   "metadata": {},
   "source": [
    "# 8. Which genes are associated with increased risk of breast cancer?\n",
    "    Good    "
   ]
  },
  {
   "cell_type": "markdown",
   "metadata": {},
   "source": [
    "# 9. Is it better to read to children at night or in the morning?\n",
    "    Good    "
   ]
  },
  {
   "cell_type": "markdown",
   "metadata": {},
   "source": [
    "# 10. How does Google’s search algorithm work?\n",
    "    Bad\n",
    "        * This question seem to only have one answer, not much of a research question."
   ]
  },
  {
   "cell_type": "code",
   "execution_count": null,
   "metadata": {
    "collapsed": true
   },
   "outputs": [],
   "source": []
  }
 ],
 "metadata": {
  "kernelspec": {
   "display_name": "Python 3",
   "language": "python",
   "name": "python3"
  },
  "language_info": {
   "codemirror_mode": {
    "name": "ipython",
    "version": 3
   },
   "file_extension": ".py",
   "mimetype": "text/x-python",
   "name": "python",
   "nbconvert_exporter": "python",
   "pygments_lexer": "ipython3",
   "version": "3.6.1"
  }
 },
 "nbformat": 4,
 "nbformat_minor": 2
}
