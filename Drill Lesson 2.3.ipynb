{
 "cells": [
  {
   "cell_type": "markdown",
   "metadata": {},
   "source": [
    "# 1 The amount a person will spend on a given site in the next 24 months.\n",
    "    Regression: the amount of money someone will spend is a continous variable."
   ]
  },
  {
   "cell_type": "markdown",
   "metadata": {},
   "source": [
    "# 2 What color car someone is going to buy.\n",
    "    Classification: because the type of colors are discrete\n",
    "    however, this problem can also be solve by regression since it doesn't have a bound."
   ]
  },
  {
   "cell_type": "markdown",
   "metadata": {},
   "source": [
    "# 3 How many children a family will have.\n",
    "    Classification: normally the number of children is a categorical variable\n",
    "    however, this problem can also be solve by regression since it doesn't have a bound."
   ]
  },
  {
   "cell_type": "markdown",
   "metadata": {},
   "source": [
    "# 4 If someone will sign up for a service.\n",
    "    Classification: there can only be 'yes' and 'no' answer, categorical variable"
   ]
  },
  {
   "cell_type": "markdown",
   "metadata": {},
   "source": [
    "# 5 The number of times someone will get sick in a year.\n",
    "    We could use either, similar reason as problem 2 and 3"
   ]
  },
  {
   "cell_type": "markdown",
   "metadata": {},
   "source": [
    "# 6 The number of times someone will get sick in a year.\n",
    "    Regression: this problem will have a continous outcome variable"
   ]
  },
  {
   "cell_type": "markdown",
   "metadata": {},
   "source": [
    "# 7 Which medicine will work best for a given patient.\n",
    "    Either\n",
    "    Classification: if there is a limited options of medicine to choose from which can be classified as categorical variable\n",
    "    Regression: if there isn't a bounded limit and the patient is free to choose whatever medicine"
   ]
  },
  {
   "cell_type": "code",
   "execution_count": null,
   "metadata": {
    "collapsed": true
   },
   "outputs": [],
   "source": []
  }
 ],
 "metadata": {
  "kernelspec": {
   "display_name": "Python 3",
   "language": "python",
   "name": "python3"
  },
  "language_info": {
   "codemirror_mode": {
    "name": "ipython",
    "version": 3
   },
   "file_extension": ".py",
   "mimetype": "text/x-python",
   "name": "python",
   "nbconvert_exporter": "python",
   "pygments_lexer": "ipython3",
   "version": "3.6.1"
  }
 },
 "nbformat": 4,
 "nbformat_minor": 2
}
